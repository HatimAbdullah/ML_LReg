{
 "cells": [
  {
   "cell_type": "code",
   "execution_count": 127,
   "metadata": {},
   "outputs": [],
   "source": [
    "%matplotlib inline\n",
    "import numpy as np\n",
    "import matplotlib\n",
    "import matplotlib.pyplot as plt\n",
    "from sklearn import linear_model\n",
    "from sklearn.metrics import mean_squared_error\n",
    "matplotlib.rc('xtick', labelsize=14) \n",
    "matplotlib.rc('ytick', labelsize=14)"
   ]
  },
  {
   "cell_type": "code",
   "execution_count": 128,
   "metadata": {},
   "outputs": [
    {
     "ename": "NameError",
     "evalue": "name 'x' is not defined",
     "output_type": "error",
     "traceback": [
      "\u001b[0;31m---------------------------------------------------------------------------\u001b[0m",
      "\u001b[0;31mNameError\u001b[0m                                 Traceback (most recent call last)",
      "\u001b[0;32m<ipython-input-128-aa1bc2957f2b>\u001b[0m in \u001b[0;36m<module>\u001b[0;34m\u001b[0m\n\u001b[1;32m      4\u001b[0m \u001b[0mtesty\u001b[0m \u001b[0;34m=\u001b[0m \u001b[0mnp\u001b[0m\u001b[0;34m.\u001b[0m\u001b[0mgenfromtxt\u001b[0m\u001b[0;34m(\u001b[0m\u001b[0;34m'testy.csv'\u001b[0m\u001b[0;34m,\u001b[0m \u001b[0mdelimiter\u001b[0m\u001b[0;34m=\u001b[0m\u001b[0;34m','\u001b[0m\u001b[0;34m)\u001b[0m\u001b[0;34m\u001b[0m\u001b[0;34m\u001b[0m\u001b[0m\n\u001b[1;32m      5\u001b[0m \u001b[0mtrainx\u001b[0m\u001b[0;34m.\u001b[0m\u001b[0mshape\u001b[0m\u001b[0;34m,\u001b[0m \u001b[0mtrainy\u001b[0m\u001b[0;34m.\u001b[0m\u001b[0mshape\u001b[0m\u001b[0;34m,\u001b[0m\u001b[0mtestx\u001b[0m\u001b[0;34m.\u001b[0m\u001b[0mshape\u001b[0m\u001b[0;34m,\u001b[0m\u001b[0mtesty\u001b[0m\u001b[0;34m.\u001b[0m\u001b[0mshape\u001b[0m\u001b[0;34m\u001b[0m\u001b[0;34m\u001b[0m\u001b[0m\n\u001b[0;32m----> 6\u001b[0;31m \u001b[0mlosses\u001b[0m \u001b[0;34m=\u001b[0m \u001b[0mnp\u001b[0m\u001b[0;34m.\u001b[0m\u001b[0mdot\u001b[0m\u001b[0;34m(\u001b[0m\u001b[0mnp\u001b[0m\u001b[0;34m.\u001b[0m\u001b[0mlinalg\u001b[0m\u001b[0;34m.\u001b[0m\u001b[0minv\u001b[0m\u001b[0;34m(\u001b[0m\u001b[0mnp\u001b[0m\u001b[0;34m.\u001b[0m\u001b[0mdot\u001b[0m\u001b[0;34m(\u001b[0m\u001b[0mx\u001b[0m\u001b[0;34m.\u001b[0m\u001b[0mT\u001b[0m\u001b[0;34m,\u001b[0m\u001b[0mx\u001b[0m\u001b[0;34m)\u001b[0m\u001b[0;34m+\u001b[0m\u001b[0mC\u001b[0m\u001b[0;34m)\u001b[0m\u001b[0;34m,\u001b[0m\u001b[0mnp\u001b[0m\u001b[0;34m.\u001b[0m\u001b[0mdot\u001b[0m\u001b[0;34m(\u001b[0m\u001b[0mx\u001b[0m\u001b[0;34m.\u001b[0m\u001b[0mT\u001b[0m\u001b[0;34m,\u001b[0m\u001b[0my\u001b[0m\u001b[0;34m)\u001b[0m\u001b[0;34m)\u001b[0m\u001b[0;34m\u001b[0m\u001b[0;34m\u001b[0m\u001b[0m\n\u001b[0m",
      "\u001b[0;31mNameError\u001b[0m: name 'x' is not defined"
     ]
    }
   ],
   "source": [
    "trainx = np.genfromtxt('trainx.csv', delimiter=',')\n",
    "trainy = np.genfromtxt('trainy.csv', delimiter=',')\n",
    "testx = np.genfromtxt('testx.csv', delimiter=',')\n",
    "testy = np.genfromtxt('testy.csv', delimiter=',')\n",
    "trainx.shape, trainy.shape,testx.shape,testy.shape\n",
    "losses = np.dot(np.linalg.inv(np.dot(x.T,x)+C),np.dot(x.T,y))"
   ]
  },
  {
   "cell_type": "code",
   "execution_count": 129,
   "metadata": {},
   "outputs": [
    {
     "name": "stdout",
     "output_type": "stream",
     "text": [
      "[ 0.02248718  0.03535459  0.0726373   0.02240391  0.25016724  0.01226698\n",
      "  0.14617295 -0.0201248   0.19064    -0.02313768  0.13565075  0.18897994\n",
      "  0.03162252  0.17997769 -0.01139938  0.17577163 -0.07748728 -0.02502374\n",
      " -0.0712598   0.25532998  0.00677786  0.05497884  0.02518449  0.08938905\n",
      " -0.11583076  0.09735753 -0.00615424  0.00671738 -0.0340672   0.04623725\n",
      "  0.054144    0.03716261 -0.01406523 -0.03321537  0.0468939  -0.00822138\n",
      "  0.04861304  0.0056782  -0.02939626 -0.09255108  0.01260787  0.00708992\n",
      "  0.06301683  0.00202622 -0.02035197  0.02139933 -0.01695013  0.01981226\n",
      "  0.01164189 -0.04571215  0.0101167   0.00728731 -0.01327394 -0.06157816\n",
      "  0.09786038 -0.06000885  0.0501009   0.09338992  0.06226628 -0.03425591\n",
      "  0.08611753  0.032375   -0.04298204  0.04240448 -0.08784142 -0.01694936\n",
      "  0.01098606 -0.07143842  0.07917408  0.04231825  0.0395751  -0.00578661\n",
      "  0.02281827 -0.0231847   0.00028843  0.07573987  0.00162887 -0.03033197\n",
      "  0.00751662 -0.02813167  0.01535659 -0.04509141 -0.02527997  0.00381286\n",
      "  0.08645052 -0.03199155  0.06988301 -0.03308732  0.04608125  0.13937517\n",
      "  0.00722774  0.03271195 -0.01071279 -0.07129118 -0.01572375 -0.01702133\n",
      "  0.03229117 -0.06519223  0.05764699 -0.03001603]\n"
     ]
    },
    {
     "data": {
      "image/png": "[encoded data removed]",
      "text/plain": [
       "<Figure size 432x288 with 1 Axes>"
      ]
     },
     "metadata": {
      "needs_background": "light"
     },
     "output_type": "display_data"
    }
   ],
   "source": [
    "from sklearn import preprocessing\n",
    "\n",
    "normalized_X = preprocessing.normalize(trainx)\n",
    "\n",
    "def cost_function(X,y,theta,C):\n",
    "    m = len(y) \n",
    "    J = 0\n",
    "    \n",
    "    pred = X @ theta\n",
    "    J_reg = (C / (2*m)) * np.sum(np.square(theta))\n",
    "    J = float((1./(2*m)) * (pred - y).T @ (pred - y)) + J_reg;\n",
    "    return J \n",
    "\n",
    "def ridge_regression_GD(x,y,C):\n",
    "    learning_rate = 0.001  \n",
    "    iterations = 1000\n",
    "    m = np.size(y)\n",
    "    losses = np.zeros(iterations)\n",
    "    theta = np.zeros(100)\n",
    "    \n",
    "    for i in range(iterations):\n",
    "        pred = np.dot(x,theta)\n",
    "        theta = theta - learning_rate * (1/m)* (  (x.T @ (pred-y)) + C * theta )     \n",
    "        losses[i] = cost_function(x,y,theta,C)\n",
    "\n",
    "    return theta ,losses\n",
    "\n",
    "theta ,losses = ridge_regression_GD(normalized_X,trainy,1.0)\n",
    "\n",
    "print(theta)\n",
    "plt.plot(losses,'r')\n",
    "plt.xlabel('Iterations', fontsize=14)\n",
    "plt.ylabel('Loss', fontsize=14)\n",
    "plt.show()"
   ]
  },
  {
   "cell_type": "code",
   "execution_count": 130,
   "metadata": {},
   "outputs": [
    {
     "name": "stdout",
     "output_type": "stream",
     "text": [
      "[-0.00000000e+00 -1.50798198e+00  1.13466197e+01  0.00000000e+00\n",
      "  1.86440209e+01 -1.31814722e-01  7.40525516e+00  0.00000000e+00\n",
      "  1.82858609e+01  1.25218859e+00  1.02856046e+01  2.35393148e+01\n",
      "  2.60031372e-01  5.35660365e+00 -1.93524388e+00  1.80215691e+01\n",
      " -2.58103637e+00  7.98310649e+00  4.69037502e-01  2.25316505e+01\n",
      "  1.25561708e-03  6.50603215e-01  2.22065525e+00  0.00000000e+00\n",
      " -2.31511451e+00 -1.24544796e-01 -2.02187889e-01 -0.00000000e+00\n",
      "  6.63213923e-01 -0.00000000e+00  2.28138237e+00 -1.64843300e+00\n",
      "  0.00000000e+00 -1.03737697e+00 -1.82969768e+00 -0.00000000e+00\n",
      " -2.51591612e-01  2.06030888e+00  3.94268476e+00  6.65239711e-01\n",
      " -1.14403815e+00  1.96873244e+00 -0.00000000e+00  1.23596098e+00\n",
      "  8.46980931e-02  2.06990825e+00  2.48416475e+00  1.25671947e+00\n",
      " -6.20250911e-01 -1.20015565e+00  6.50496406e-02  0.00000000e+00\n",
      "  1.45181669e+00  9.47158286e-01  1.60796896e-01  0.00000000e+00\n",
      "  2.46212317e+00  8.43309773e-01 -0.00000000e+00  0.00000000e+00\n",
      "  0.00000000e+00 -2.56428224e-01  0.00000000e+00  6.89069583e-01\n",
      " -1.36960960e+00  4.64352823e-01  1.91495454e+00 -8.19150691e-02\n",
      "  0.00000000e+00  5.86846828e-01  2.03407959e+00 -0.00000000e+00\n",
      " -2.24282776e+00 -0.00000000e+00 -0.00000000e+00  0.00000000e+00\n",
      "  2.19958032e+00  2.48082360e+00  1.52247037e+00  6.85468781e-01\n",
      " -1.90238300e+00 -5.35446406e-01 -8.00331073e-01 -1.99658030e+00\n",
      "  0.00000000e+00  1.25690968e+00 -0.00000000e+00 -5.99917270e-01\n",
      " -0.00000000e+00  0.00000000e+00  9.20692709e-01 -0.00000000e+00\n",
      "  0.00000000e+00 -5.06394742e-01  2.67814238e-01  1.74462684e+00\n",
      "  8.09357365e-01  4.88762542e-01  0.00000000e+00 -1.73459981e+00]\n",
      "-0.035626418603313226\n"
     ]
    }
   ],
   "source": [
    "from sklearn import linear_model\n",
    "\n",
    "def lasso_cost_function(trainx, trainy, theta, theta_0, C):\n",
    "    samples = len(trainy)\n",
    "    loss = 0\n",
    "    \n",
    "    loss = np.sum(((trainy - trainx.dot(theta) + theta_0)**2))\n",
    "        \n",
    "    loss = loss + C * (abs(theta))\n",
    "    return loss\n",
    "\n",
    "def lasso_regression_GD(x,y,C):\n",
    "    lasso = linear_model.Lasso(alpha=0.001)\n",
    "    lasso.fit(x, y)\n",
    "    w = lasso.coef_\n",
    "    b = lasso.intercept_\n",
    "    losses = []\n",
    "    \n",
    "    return w,b,losses\n",
    "    \n",
    "w,b,losses = lasso_regression_GD(normalized_X,trainy,600)\n",
    "print(w)\n",
    "print(b)"
   ]
  },
  {
   "cell_type": "code",
   "execution_count": 131,
   "metadata": {},
   "outputs": [
    {
     "name": "stdout",
     "output_type": "stream",
     "text": [
      "MSE of built-in linear regression(training):  1.3927486422724714e-28\n",
      "MSE of gradient descent solver for ridge regression (training):  1.3353171354017344\n",
      "MSE of built-in solver for ridge regression (training):  0.03480412397500122\n",
      "MSE of built-in linear regression(test):  50.98181057763657\n",
      "MSE of gradient descent solver for ridge regression (test):  4.8859572319037925\n",
      "MSE of built-in solver for ridge regression (test):  4.590164991621038\n"
     ]
    }
   ],
   "source": [
    "def compute_mse(w,b,x,y):\n",
    "    samples = len(y)\n",
    "    J = np.sum((x.dot(w) - y) ** 2)/(2 * samples)\n",
    "    return J\n",
    "    \n",
    "# Set regularization constant\n",
    "C = 1.0 # you can change it\n",
    "# Run gradient descent solver and compute its MSE\n",
    "w, losses = ridge_regression_GD(trainx, trainy, C)\n",
    "# Use built-in routine for linear regression and compute MSE\n",
    "lin_regr = linear_model.LinearRegression()\n",
    "lin_regr.fit(trainx, trainy)\n",
    "# Use built-in routine for ridge regression and compute MSE\n",
    "ridge_regr = linear_model.Ridge(alpha=1.0) # you can try different values\n",
    "ridge_regr.fit(trainx, trainy)\n",
    "# Print MSE values\n",
    "print (\"MSE of built-in linear regression(training): \", mean_squared_error(lin_regr.predict(trainx), trainy))\n",
    "print (\"MSE of gradient descent solver for ridge regression (training): \", compute_mse(w,b,trainx, trainy))\n",
    "print (\"MSE of built-in solver for ridge regression (training): \", mean_squared_error(ridge_regr.predict(trainx), trainy))\n",
    "print (\"MSE of built-in linear regression(test): \", mean_squared_error(lin_regr.predict(testx), testy))\n",
    "print (\"MSE of gradient descent solver for ridge regression (test): \", compute_mse(w,b,testx, testy))\n",
    "print (\"MSE of built-in solver for ridge regression (test): \", mean_squared_error(ridge_regr.predict(testx), testy))\n"
   ]
  },
  {
   "cell_type": "code",
   "execution_count": 132,
   "metadata": {},
   "outputs": [
    {
     "name": "stdout",
     "output_type": "stream",
     "text": [
      "MSE of built-in linear regression(training):  1.3927486422724714e-28\n",
      "MSE of gradient descent solver for lasso regression (training):  0.011272278703378033\n",
      "MSE of built-in solver for lasso regression (training):  8.78299643035392\n",
      "MSE of built-in linear regression(test):  50.98181057763657\n",
      "MSE of gradient descent solver for lasso regression (test):  2.7277095698900076\n",
      "MSE of built-in solver for lasso regression (test):  9.566046105001256\n"
     ]
    }
   ],
   "source": [
    "# Set regularization constant\n",
    "C = 1.0 # you can change it\n",
    "# Run gradient descent solver and compute its MSE\n",
    "w, b, losses = lasso_regression_GD(trainx,trainy,C)\n",
    "# Use built-in routine for ridge regression and compute MSE\n",
    "lasso_regr = linear_model.Lasso(alpha=1.0) # you can try different values\n",
    "lasso_regr.fit(trainx,trainy)\n",
    "# Print MSE values\n",
    "print (\"MSE of built-in linear regression(training): \", mean_squared_error(lin_regr.predict(trainx), trainy))\n",
    "print (\"MSE of gradient descent solver for lasso regression (training): \", compute_mse(w,b,trainx, trainy))\n",
    "print (\"MSE of built-in solver for lasso regression (training): \", mean_squared_error(lasso_regr.predict(trainx), trainy))\n",
    "print (\"MSE of built-in linear regression(test): \", mean_squared_error(lin_regr.predict(testx), testy))\n",
    "print (\"MSE of gradient descent solver for lasso regression (test): \", compute_mse(w,b,testx, testy))\n",
    "print (\"MSE of built-in solver for lasso regression (test): \", mean_squared_error(lasso_regr.predict(testx), testy))"
   ]
  },
  {
   "cell_type": "code",
   "execution_count": null,
   "metadata": {},
   "outputs": [],
   "source": []
  }
 ],
 "metadata": {
  "kernelspec": {
   "display_name": "Python 3",
   "language": "python",
   "name": "python3"
  },
  "language_info": {
   "codemirror_mode": {
    "name": "ipython",
    "version": 3
   },
   "file_extension": ".py",
   "mimetype": "text/x-python",
   "name": "python",
   "nbconvert_exporter": "python",
   "pygments_lexer": "ipython3",
   "version": "3.7.4"
  }
 },
 "nbformat": 4,
 "nbformat_minor": 2
}
